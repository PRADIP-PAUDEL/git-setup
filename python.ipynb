{
 "cells": [
  {
   "cell_type": "code",
   "execution_count": 1,
   "id": "b41a799d-15dd-4485-9efa-795be81253b9",
   "metadata": {},
   "outputs": [
    {
     "name": "stdout",
     "output_type": "stream",
     "text": [
      "12345\n",
      "<class 'decimal.Decimal'>\n"
     ]
    }
   ],
   "source": [
    "import decimal\n",
    "string = '12345'\n",
    "print(decimal.Decimal(string))\n",
    "print(type(decimal.Decimal(string)))"
   ]
  },
  {
   "cell_type": "markdown",
   "id": "fe661fd9-70d4-4581-b03b-351f7179df0b",
   "metadata": {},
   "source": [
    "# Reversing a String using an Extended Slicing Technique"
   ]
  },
  {
   "cell_type": "code",
   "execution_count": 3,
   "id": "f6388dfb-4623-4932-84f6-e864c3b61ace",
   "metadata": {},
   "outputs": [
    {
     "name": "stdout",
     "output_type": "stream",
     "text": [
      "gnimmargorP nohtyP\n"
     ]
    }
   ],
   "source": [
    "string = \"Python Programming\"\n",
    "print(string[::-1])"
   ]
  },
  {
   "cell_type": "markdown",
   "id": "9ec4a808-37af-42e0-96e2-e9436793e4c3",
   "metadata": {},
   "source": [
    "# Counting Vowels in a Given Word"
   ]
  },
  {
   "cell_type": "code",
   "execution_count": 4,
   "id": "ac272560-9f27-48a3-9620-e875eda99d08",
   "metadata": {},
   "outputs": [
    {
     "name": "stdout",
     "output_type": "stream",
     "text": [
      "3\n"
     ]
    }
   ],
   "source": [
    "vowel =['a','e','i','o','u']\n",
    "word = \"programming\"\n",
    "count= 0\n",
    "for character in word:\n",
    "    if character in vowel:\n",
    "        count+=1\n",
    "print(count)"
   ]
  },
  {
   "cell_type": "markdown",
   "id": "3c8719a8-65eb-4b89-915f-be98ea37a2c2",
   "metadata": {},
   "source": [
    "# Counting Consonants in a Given Word"
   ]
  },
  {
   "cell_type": "code",
   "execution_count": 6,
   "id": "e1b0f5ca-afcd-45d3-a37d-b239a78bd36d",
   "metadata": {},
   "outputs": [
    {
     "name": "stdout",
     "output_type": "stream",
     "text": [
      "8\n"
     ]
    }
   ],
   "source": [
    "vowel =['a','e','o','i','u']\n",
    "word = \"programming\"\n",
    "count = 0\n",
    "for character in word:\n",
    "    if character not in vowel:\n",
    "        count+=1\n",
    "print(count)"
   ]
  },
  {
   "cell_type": "markdown",
   "id": "5f7ba36b-6dea-4ad4-adc1-73d6e78f9379",
   "metadata": {},
   "source": [
    "# Writing Fibonacci Series"
   ]
  },
  {
   "cell_type": "code",
   "execution_count": 11,
   "id": "bfb4b886-c222-4550-8c77-f017ca2b2512",
   "metadata": {},
   "outputs": [
    {
     "name": "stdout",
     "output_type": "stream",
     "text": [
      "0\n",
      "1\n",
      "1\n",
      "2\n",
      "3\n",
      "5\n",
      "8\n"
     ]
    }
   ],
   "source": [
    "fib =[0,1]\n",
    "n=5\n",
    "for i in range(n):\n",
    "   fib.append(fib[-1] + fib[-2])\n",
    "for e in fib:\n",
    "    print(e)"
   ]
  },
  {
   "cell_type": "code",
   "execution_count": null,
   "id": "bd17c6ee-a751-4eae-94fd-fdf364e46d37",
   "metadata": {},
   "outputs": [],
   "source": []
  }
 ],
 "metadata": {
  "kernelspec": {
   "display_name": "Python 3 (ipykernel)",
   "language": "python",
   "name": "python3"
  },
  "language_info": {
   "codemirror_mode": {
    "name": "ipython",
    "version": 3
   },
   "file_extension": ".py",
   "mimetype": "text/x-python",
   "name": "python",
   "nbconvert_exporter": "python",
   "pygments_lexer": "ipython3",
   "version": "3.12.1"
  }
 },
 "nbformat": 4,
 "nbformat_minor": 5
}
